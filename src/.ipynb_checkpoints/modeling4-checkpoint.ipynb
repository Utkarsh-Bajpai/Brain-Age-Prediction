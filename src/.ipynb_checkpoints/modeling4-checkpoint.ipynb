{
 "cells": [
  {
   "cell_type": "code",
   "execution_count": 1,
   "metadata": {},
   "outputs": [],
   "source": [
    "from __future__ import print_function, division"
   ]
  },
  {
   "cell_type": "code",
   "execution_count": 2,
   "metadata": {},
   "outputs": [],
   "source": [
    "# import libraries\n",
    "import numpy as np\n",
    "import pandas as pd\n",
    "from PIL import Image\n",
    "import matplotlib.pyplot as plt\n",
    "from sklearn.feature_selection import VarianceThreshold\n",
    "from sklearn.preprocessing import scale\n",
    "from sklearn.decomposition import KernelPCA\n",
    "from sklearn.linear_model import Ridge, ElasticNet, BayesianRidge\n",
    "from sklearn.model_selection import cross_val_score\n",
    "from sklearn.ensemble import RandomForestRegressor\n",
    "from sklearn.ensemble import GradientBoostingRegressor"
   ]
  },
  {
   "cell_type": "code",
   "execution_count": 3,
   "metadata": {},
   "outputs": [],
   "source": [
    "# update your data path\n",
    "DATA_PATH = \"/home/aunagar/Personal/Study/Sem1/Advanced ML/projects/task1/Task1/\""
   ]
  },
  {
   "cell_type": "code",
   "execution_count": 4,
   "metadata": {},
   "outputs": [],
   "source": [
    "# import data\n",
    "train_X = pd.read_csv(DATA_PATH + \"X_train.csv\")\n",
    "train_Y = pd.read_csv(DATA_PATH + \"y_train.csv\")\n",
    "test_X = pd.read_csv(DATA_PATH + \"X_test.csv\")\n",
    "sample_submission = pd.read_csv(DATA_PATH + \"sample.csv\")"
   ]
  },
  {
   "cell_type": "code",
   "execution_count": 5,
   "metadata": {},
   "outputs": [],
   "source": [
    "# split data\n",
    "train_ids = train_X.iloc[:, 0]\n",
    "train_features = train_X.iloc[:, 1:]\n",
    "test_ids = test_X.iloc[:, 0]\n",
    "test_features = test_X.iloc[:, 1:]"
   ]
  },
  {
   "cell_type": "code",
   "execution_count": 6,
   "metadata": {},
   "outputs": [],
   "source": [
    "######## missing value imputation (median) ########\n",
    "# train\n",
    "train_features = train_features.fillna(train_features.mean())\n",
    "# test\n",
    "test_features = test_features.fillna(train_features.mean())\n",
    "\n",
    "\n",
    "####### limiting feature using variance threshold (i.e. remove features with 0 variance) ######\n",
    "train_features_mean, train_features_std = train_features.mean(), train_features.std()\n",
    "\n",
    "train_features = train_features.iloc[:, np.where(train_features_std > 0.0)[0]]\n",
    "test_features = test_features.iloc[:, np.where(train_features_std > 0.0)[0]]\n",
    "\n",
    "############## Outlier removal ###############\n",
    "train_features_mean, train_features_std = train_features.mean(), train_features.std()\n",
    "# train\n",
    "train_features[train_features > train_features_mean + 2.5*train_features_std] = np.nan\n",
    "train_features[train_features < train_features_mean -2.5*train_features_std] = np.nan\n",
    "train_features = train_features.fillna(train_features.mean())\n",
    "\n",
    "# test\n",
    "test_features[test_features > train_features_mean + 2.5*train_features_std] = np.nan\n",
    "test_features[test_features < train_features_mean - 2.5*train_features_std] = np.nan\n",
    "test_features = test_features.fillna(train_features.mean())"
   ]
  },
  {
   "cell_type": "code",
   "execution_count": 7,
   "metadata": {},
   "outputs": [],
   "source": [
    "##### Normalization #####\n",
    "# train\n",
    "train_mean, train_std = train_features.mean(), train_features.std()\n",
    "train_features = (train_features - train_mean)/train_std\n",
    "# test \n",
    "test_features = (test_features - train_mean)/train_std"
   ]
  },
  {
   "cell_type": "code",
   "execution_count": 8,
   "metadata": {},
   "outputs": [],
   "source": [
    "###### Correlated feature removal #########\n",
    "# Create correlation matrix\n",
    "corr_matrix = train_features.corr().abs()\n",
    "# Select upper triangle of correlation matrix\n",
    "upper = corr_matrix.where(np.triu(np.ones(corr_matrix.shape), k=1).astype(np.bool))\n",
    "# Find index of feature columns with correlation greater than 0.7\n",
    "to_drop = [column for column in upper.columns if any(upper[column] > 0.7)]\n",
    "\n",
    "# train\n",
    "train_features = train_features.drop(columns = to_drop)\n",
    "# test\n",
    "test_features = test_features.drop(columns = to_drop)"
   ]
  },
  {
   "cell_type": "code",
   "execution_count": 9,
   "metadata": {},
   "outputs": [
    {
     "name": "stdout",
     "output_type": "stream",
     "text": [
      "0.4664924835961111\n"
     ]
    },
    {
     "data": {
      "text/plain": [
       "ElasticNet(alpha=0.5, copy_X=True, fit_intercept=True, l1_ratio=0.5,\n",
       "           max_iter=1000, normalize=False, positive=False, precompute=False,\n",
       "           random_state=None, selection='cyclic', tol=0.0001, warm_start=False)"
      ]
     },
     "execution_count": 9,
     "metadata": {},
     "output_type": "execute_result"
    }
   ],
   "source": [
    "###### linear model\n",
    "lr = ElasticNet(alpha = 0.5, l1_ratio=0.5)\n",
    "validation_score = cross_val_score(lr, train_features, train_Y.iloc[:, 1:], cv = 5, scoring = 'r2')\n",
    "print(validation_score.mean())\n",
    "\n",
    "# train model on whole train data\n",
    "lr.fit(X = train_features, y = train_Y.iloc[:, 1])"
   ]
  },
  {
   "cell_type": "code",
   "execution_count": 10,
   "metadata": {},
   "outputs": [],
   "source": [
    "# finding to which features to remove\n",
    "non_zero_weights = np.where(lr.coef_ != 0.)[0]\n",
    "\n",
    "# removing these features from training data\n",
    "train_features = train_features.iloc[:, non_zero_weights]\n",
    "test_features = test_features.iloc[:, non_zero_weights]"
   ]
  },
  {
   "cell_type": "code",
   "execution_count": 11,
   "metadata": {
    "scrolled": true
   },
   "outputs": [
    {
     "name": "stdout",
     "output_type": "stream",
     "text": [
      "0.5094041211581531\n"
     ]
    },
    {
     "data": {
      "text/plain": [
       "RandomForestRegressor(bootstrap=True, criterion='mse', max_depth=15,\n",
       "                      max_features='auto', max_leaf_nodes=None,\n",
       "                      min_impurity_decrease=0.0, min_impurity_split=None,\n",
       "                      min_samples_leaf=1, min_samples_split=2,\n",
       "                      min_weight_fraction_leaf=0.0, n_estimators=1000,\n",
       "                      n_jobs=None, oob_score=False, random_state=None,\n",
       "                      verbose=0, warm_start=False)"
      ]
     },
     "execution_count": 11,
     "metadata": {},
     "output_type": "execute_result"
    }
   ],
   "source": [
    "#### training more complex model on this cleared data\n",
    "rfr = RandomForestRegressor(n_estimators=1000, max_depth=15)\n",
    "validation_score = cross_val_score(rfr, train_features, train_Y.iloc[:, 1], cv = 5, scoring= 'r2')\n",
    "print(validation_score.mean())\n",
    "\n",
    "rfr.fit(X= train_features, y = train_Y.iloc[:, 1].values)"
   ]
  },
  {
   "cell_type": "code",
   "execution_count": 12,
   "metadata": {},
   "outputs": [],
   "source": [
    "train_predicted = rfr.predict(train_features)"
   ]
  },
  {
   "cell_type": "code",
   "execution_count": 13,
   "metadata": {},
   "outputs": [
    {
     "data": {
      "image/png": "[encoded data removed]",
      "text/plain": [
       "<Figure size 432x288 with 1 Axes>"
      ]
     },
     "metadata": {
      "needs_background": "light"
     },
     "output_type": "display_data"
    }
   ],
   "source": [
    "plt.scatter(train_predicted, train_Y.iloc[:, 1])\n",
    "plt.show()"
   ]
  },
  {
   "cell_type": "code",
   "execution_count": 29,
   "metadata": {},
   "outputs": [
    {
     "name": "stdout",
     "output_type": "stream",
     "text": [
      "      Iter       Train Loss   Remaining Time \n",
      "         1          43.9236           52.63s\n",
      "         2          40.7051           51.25s\n",
      "         3          37.9116           49.27s\n",
      "         4          35.4140           48.22s\n",
      "         5          33.0443           49.07s\n",
      "         6          30.7385           48.41s\n",
      "         7          28.8724           47.83s\n",
      "         8          27.0529           47.41s\n",
      "         9          25.3832           47.63s\n",
      "        10          23.7656           48.59s\n",
      "        20          12.9267           46.41s\n",
      "        30           7.4178           45.45s\n",
      "        40           4.5286           46.80s\n",
      "        50           2.8821           45.52s\n",
      "        60           1.9389           45.87s\n",
      "        70           1.4386           45.48s\n",
      "        80           1.1092           44.11s\n",
      "        90           0.8828           42.82s\n",
      "       100           0.7192           41.77s\n",
      "       200           0.1764           32.81s\n",
      "       300           0.0545           27.91s\n",
      "       400           0.0253           24.00s\n",
      "       500           0.0166           20.44s\n",
      "       600           0.0115           16.22s\n",
      "       700           0.0074           12.22s\n",
      "       800           0.0040            8.04s\n",
      "       900           0.0084            3.97s\n",
      "      1000           0.0052            0.00s\n",
      "      Iter       Train Loss   Remaining Time \n",
      "         1          45.1143           44.94s\n",
      "         2          41.9886           48.85s\n",
      "         3          39.1959           50.31s\n",
      "         4          36.6116           50.94s\n",
      "         5          34.2030           51.49s\n",
      "         6          31.9171           51.67s\n",
      "         7          29.8392           51.58s\n",
      "         8          27.9669           51.82s\n",
      "         9          26.2316           52.07s\n",
      "        10          24.5496           51.44s\n",
      "        20          13.0497           58.16s\n",
      "        30           7.5704            1.00m\n",
      "        40           4.7391           58.14s\n",
      "        50           3.0801           54.53s\n",
      "        60           2.0793           51.92s\n",
      "        70           1.4858           50.51s\n",
      "        80           1.0597           48.60s\n",
      "        90           0.8443           46.68s\n",
      "       100           0.6852           45.01s\n",
      "       200           0.1431           35.75s\n",
      "       300           0.0414           30.39s\n",
      "       400           0.0140           25.27s\n",
      "       500           0.0157           20.39s\n",
      "       600           0.0131           15.97s\n",
      "       700           0.0051           11.84s\n",
      "       800           0.0026            7.79s\n",
      "       900           0.0055            3.86s\n",
      "      1000           0.0028            0.00s\n",
      "      Iter       Train Loss   Remaining Time \n",
      "         1          47.1837           44.30s\n",
      "         2          44.1435           44.14s\n",
      "         3          41.1362           44.51s\n",
      "         4          38.3516           45.54s\n",
      "         5          35.9830           46.38s\n",
      "         6          33.6154           45.99s\n",
      "         7          31.3911           45.93s\n",
      "         8          29.3662           45.80s\n",
      "         9          27.4403           46.41s\n",
      "        10          25.6617           46.21s\n",
      "        20          13.9239           45.85s\n",
      "        30           8.0865           44.81s\n",
      "        40           4.9413           44.35s\n",
      "        50           3.1734           43.79s\n",
      "        60           2.1009           43.05s\n",
      "        70           1.4552           42.11s\n",
      "        80           1.1109           41.10s\n",
      "        90           0.8417           40.53s\n",
      "       100           0.6679           39.72s\n",
      "       200           0.1053           33.64s\n",
      "       300           0.0338           28.98s\n",
      "       400           0.0116           24.60s\n",
      "       500           0.0118           20.04s\n",
      "       600           0.0058           15.80s\n",
      "       700           0.0029           11.89s\n",
      "       800           0.0043            7.91s\n",
      "       900           0.0028            3.94s\n",
      "      1000           0.0036            0.00s\n",
      "      Iter       Train Loss   Remaining Time \n",
      "         1          45.4709           49.62s\n",
      "         2          42.3261           48.67s\n",
      "         3          39.4318           47.68s\n",
      "         4          36.7663           48.87s\n",
      "         5          34.2792           49.62s\n",
      "         6          32.0408           48.67s\n",
      "         7          29.9121           48.29s\n",
      "         8          27.9096           48.60s\n",
      "         9          26.1055           49.30s\n",
      "        10          24.4358           48.91s\n",
      "        20          13.4521           47.13s\n",
      "        30           7.6447           46.70s\n",
      "        40           4.6246           49.29s\n",
      "        50           2.9613           47.43s\n",
      "        60           2.0496           46.07s\n",
      "        70           1.5023           45.21s\n",
      "        80           1.1281           44.71s\n",
      "        90           0.8800           43.64s\n",
      "       100           0.7329           42.54s\n",
      "       200           0.1319           35.74s\n",
      "       300           0.0478           29.86s\n",
      "       400           0.0160           25.34s\n",
      "       500           0.0067           20.93s\n",
      "       600           0.0046           16.71s\n",
      "       700           0.0048           12.21s\n",
      "       800           0.0055            7.94s\n",
      "       900           0.0052            3.90s\n",
      "      1000           0.0067            0.00s\n",
      "      Iter       Train Loss   Remaining Time \n",
      "         1          47.1565           45.89s\n",
      "         2          43.8893           45.53s\n",
      "         3          40.9093           45.68s\n",
      "         4          38.2039           46.73s\n",
      "         5          35.5871           47.25s\n",
      "         6          33.2745           46.75s\n",
      "         7          31.1358           46.51s\n",
      "         8          29.1651           46.21s\n",
      "         9          27.3524           46.43s\n",
      "        10          25.6256           46.27s\n",
      "        20          14.2110           44.92s\n",
      "        30           8.2541           44.23s\n",
      "        40           5.2011           43.90s\n",
      "        50           3.3952           43.51s\n",
      "        60           2.2306           43.35s\n",
      "        70           1.5891           42.57s\n",
      "        80           1.2002           41.87s\n",
      "        90           0.9566           40.99s\n",
      "       100           0.7649           40.20s\n",
      "       200           0.1673           32.67s\n",
      "       300           0.0639           28.14s\n",
      "       400           0.0267           24.33s\n",
      "       500           0.0116           20.09s\n",
      "       600           0.0128           16.10s\n",
      "       700           0.0085           11.98s\n",
      "       800           0.0063            7.85s\n",
      "       900           0.0071            3.90s\n",
      "      1000           0.0049            0.00s\n",
      "0.5262067479251109\n",
      "      Iter       Train Loss   Remaining Time \n",
      "         1          45.7546           58.68s\n",
      "         2          42.5887            1.00m\n",
      "         3          39.8392            1.00m\n",
      "         4          37.1703            1.05m\n",
      "         5          34.7545            1.05m\n",
      "         6          32.5906            1.03m\n",
      "         7          30.5953            1.08m\n",
      "         8          28.7442            1.07m\n",
      "         9          27.0197            1.06m\n",
      "        10          25.3955            1.07m\n",
      "        20          13.9303            1.05m\n",
      "        30           8.4297            1.03m\n",
      "        40           5.3035            1.02m\n",
      "        50           3.4845            1.00m\n",
      "        60           2.3715           59.02s\n",
      "        70           1.7110           57.47s\n",
      "        80           1.3398           55.85s\n",
      "        90           1.0628           54.29s\n",
      "       100           0.8703           52.69s\n",
      "       200           0.2056           45.49s\n",
      "       300           0.0825           37.53s\n",
      "       400           0.0364           33.04s\n",
      "       500           0.0192           26.93s\n",
      "       600           0.0118           21.13s\n",
      "       700           0.0128           15.47s\n",
      "       800           0.0093           10.13s\n",
      "       900           0.0051            5.02s\n",
      "      1000           0.0043            0.00s\n"
     ]
    },
    {
     "data": {
      "text/plain": [
       "GradientBoostingRegressor(alpha=0.9, criterion='friedman_mse', init=None,\n",
       "                          learning_rate=0.05, loss='huber', max_depth=7,\n",
       "                          max_features=None, max_leaf_nodes=None,\n",
       "                          min_impurity_decrease=0.0, min_impurity_split=None,\n",
       "                          min_samples_leaf=10, min_samples_split=10,\n",
       "                          min_weight_fraction_leaf=0.0, n_estimators=1000,\n",
       "                          n_iter_no_change=None, presort='auto',\n",
       "                          random_state=42, subsample=1.0, tol=0.0001,\n",
       "                          validation_fraction=0.33, verbose=1,\n",
       "                          warm_start=False)"
      ]
     },
     "execution_count": 29,
     "metadata": {},
     "output_type": "execute_result"
    }
   ],
   "source": [
    "#### training more complex model on this cleared date\n",
    "gbr = GradientBoostingRegressor(loss='huber', learning_rate=0.1, n_estimators=1000, subsample=1.,\n",
    "                                criterion='friedman_mse', min_samples_split=10, min_samples_leaf=10,\n",
    "                                min_weight_fraction_leaf=0.0, max_depth=7, min_impurity_decrease=0.0,\n",
    "                                min_impurity_split=None, init=None, random_state=42, max_features=None,\n",
    "                                alpha=0.9, verbose=1, max_leaf_nodes=None, warm_start=False, presort='auto',\n",
    "                                validation_fraction=0.33, n_iter_no_change=None, tol=0.0001)\n",
    "validation_score = cross_val_score(gbr, train_features, train_Y.iloc[:, 1], cv = 5, scoring= 'r2')\n",
    "print(validation_score.mean())\n",
    "\n",
    "gbr.fit(X= train_features, y = train_Y.iloc[:, 1].values)"
   ]
  },
  {
   "cell_type": "code",
   "execution_count": 20,
   "metadata": {},
   "outputs": [
    {
     "data": {
      "image/png": "[encoded data removed]",
      "text/plain": [
       "<Figure size 432x288 with 1 Axes>"
      ]
     },
     "metadata": {
      "needs_background": "light"
     },
     "output_type": "display_data"
    }
   ],
   "source": [
    "plt.scatter(gbr.predict(train_features), train_Y.iloc[:, 1])\n",
    "plt.show()"
   ]
  },
  {
   "cell_type": "code",
   "execution_count": 21,
   "metadata": {},
   "outputs": [],
   "source": [
    "best_model = gbr"
   ]
  },
  {
   "cell_type": "code",
   "execution_count": 22,
   "metadata": {},
   "outputs": [],
   "source": [
    "predicted = best_model.predict(test_features)\n",
    "sample_submission['y'] = predicted"
   ]
  },
  {
   "cell_type": "code",
   "execution_count": 23,
   "metadata": {},
   "outputs": [],
   "source": [
    "sample_submission.to_csv(\"submissions/Ajay_11th_sub.csv\", index = False)"
   ]
  },
  {
   "cell_type": "code",
   "execution_count": null,
   "metadata": {},
   "outputs": [],
   "source": []
  }
 ],
 "metadata": {
  "kernelspec": {
   "display_name": "Python 3",
   "language": "python",
   "name": "python3"
  },
  "language_info": {
   "codemirror_mode": {
    "name": "ipython",
    "version": 3
   },
   "file_extension": ".py",
   "mimetype": "text/x-python",
   "name": "python",
   "nbconvert_exporter": "python",
   "pygments_lexer": "ipython3",
   "version": "3.7.3"
  }
 },
 "nbformat": 4,
 "nbformat_minor": 2
}
