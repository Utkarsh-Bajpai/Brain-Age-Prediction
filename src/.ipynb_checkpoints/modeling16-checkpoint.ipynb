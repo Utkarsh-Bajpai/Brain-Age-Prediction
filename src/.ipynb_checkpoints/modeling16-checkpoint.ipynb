{
 "cells": [
  {
   "cell_type": "code",
   "execution_count": 155,
   "metadata": {},
   "outputs": [],
   "source": [
    "from __future__ import print_function, division"
   ]
  },
  {
   "cell_type": "code",
   "execution_count": 156,
   "metadata": {},
   "outputs": [],
   "source": [
    "# import libraries\n",
    "import numpy as np\n",
    "import pandas as pd\n",
    "from functools import reduce\n",
    "import matplotlib.pyplot as plt\n",
    "\n",
    "from sklearn.feature_selection import VarianceThreshold\n",
    "from sklearn.preprocessing import scale\n",
    "from sklearn.decomposition import KernelPCA\n",
    "\n",
    "from sklearn.linear_model import Ridge, ElasticNet, BayesianRidge, RANSACRegressor\n",
    "from sklearn.ensemble import RandomForestRegressor\n",
    "from sklearn.ensemble import GradientBoostingRegressor\n",
    "from mlens.ensemble import SuperLearner\n",
    "from sklearn.svm import SVR\n",
    "from xgboost import XGBRegressor\n",
    "from sklearn.gaussian_process import GaussianProcessRegressor\n",
    "\n",
    "from keras.models import Sequential\n",
    "from keras.layers import Dense, Dropout\n",
    "from keras.wrappers.scikit_learn import KerasRegressor\n",
    "from sklearn.model_selection import cross_val_score\n",
    "from sklearn.model_selection import KFold\n",
    "\n",
    "from sklearn.model_selection import cross_val_score, train_test_split, KFold\n",
    "from sklearn.metrics import r2_score\n",
    "from sklearn.utils import resample, shuffle\n",
    "\n",
    "from sklearn.ensemble import IsolationForest\n",
    "from sklearn.covariance import EllipticEnvelope\n",
    "from sklearn.cluster import DBSCAN\n",
    "from sklearn.preprocessing import StandardScaler\n",
    "from sklearn.svm import OneClassSVM\n",
    "from sklearn.neighbors import LocalOutlierFactor\n"
   ]
  },
  {
   "cell_type": "markdown",
   "metadata": {},
   "source": [
    "### Data Inputs"
   ]
  },
  {
   "cell_type": "code",
   "execution_count": 157,
   "metadata": {},
   "outputs": [],
   "source": [
    "# update your data path\n",
    "DATA_PATH = \"/home/aunagar/Personal/Study/Sem1/Advanced ML/projects/task1/Task1/\""
   ]
  },
  {
   "cell_type": "code",
   "execution_count": 158,
   "metadata": {},
   "outputs": [],
   "source": [
    "# import data\n",
    "train_X = pd.read_csv(DATA_PATH + \"X_train.csv\")\n",
    "train_Y = pd.read_csv(DATA_PATH + \"y_train.csv\")\n",
    "test_X = pd.read_csv(DATA_PATH + \"X_test.csv\")\n",
    "sample_submission = pd.read_csv(DATA_PATH + \"sample.csv\")"
   ]
  },
  {
   "cell_type": "code",
   "execution_count": 159,
   "metadata": {},
   "outputs": [],
   "source": [
    "# split data\n",
    "train_ids = train_X.iloc[:, 0]\n",
    "train_features = train_X.iloc[:, 1:]\n",
    "test_ids = test_X.iloc[:, 0]\n",
    "test_features = test_X.iloc[:, 1:]"
   ]
  },
  {
   "cell_type": "markdown",
   "metadata": {},
   "source": [
    "### Preprocessing"
   ]
  },
  {
   "cell_type": "code",
   "execution_count": 160,
   "metadata": {},
   "outputs": [],
   "source": [
    "def missing_value_imputation(train, test):\n",
    "    train = train.fillna(train.median())\n",
    "    \n",
    "    test = test.fillna(train.median())\n",
    "    \n",
    "    return train, test\n",
    "\n",
    "def outlier_treatment(train, test):\n",
    "    \n",
    "    train_mean, train_std = train.mean(), train.std()\n",
    "    \n",
    "    train[train > train_mean + 2*train_std] = np.nan\n",
    "    train[train < train_mean - 2*train_std] = np.nan\n",
    "    \n",
    "    test[test > train_mean + 2*train_std] = np.nan\n",
    "    test[test < train_mean - 2*train_std] = np.nan\n",
    "    \n",
    "    train = train.fillna(train_mean)\n",
    "    test = test.fillna(train_mean)\n",
    "    \n",
    "    return train, test\n",
    "\n",
    "def normalize(train, test):\n",
    "    train_mean, train_std = train.mean(), train.std()\n",
    "\n",
    "    train = (train - train_mean)/train_std\n",
    "    # test \n",
    "    test = (test - train_mean)/train_std\n",
    "    \n",
    "    return train, test\n",
    "\n",
    "def remove_corr_features(train, test, threshold = 0.8):\n",
    "    \n",
    "    # Create correlation matrix\n",
    "    corr_matrix = train.corr().abs()\n",
    "    # Select upper triangle of correlation matrix\n",
    "    upper = corr_matrix.where(np.triu(np.ones(corr_matrix.shape), k=1).astype(np.bool))\n",
    "    # Find index of feature columns with correlation greater than threshold\n",
    "    to_drop = [column for column in upper.columns if any(upper[column] > threshold)]\n",
    "    # train\n",
    "    train = train.drop(columns = to_drop)\n",
    "    # test\n",
    "    test = test.drop(columns = to_drop)\n",
    "    \n",
    "    return train, test\n",
    "\n",
    "def add_one_column(train, test):\n",
    "    train['last'] = np.ones(len(train))\n",
    "    test['last'] = np.ones(len(test))\n",
    "\n",
    "def preprocess(train, test):\n",
    "    \n",
    "    # impute missing values\n",
    "    train, test = missing_value_imputation(train, test)\n",
    "    \n",
    "    # remove columns with 0 variance\n",
    "    train_mean, train_std = train.mean(), train.std()\n",
    "    train = train.iloc[:, np.where(train_std > 0.0)[0]]\n",
    "    test = test.iloc[:, np.where(train_std > 0.0)[0]]\n",
    "    \n",
    "    # remove outliers\n",
    "    train, test = outlier_treatment(train, test)\n",
    "    \n",
    "    # normalize\n",
    "    train, test = normalize(train, test)\n",
    "    \n",
    "    # remove correlated features\n",
    "    train, test = remove_corr_features(train, test)\n",
    "    \n",
    "    return train, test"
   ]
  },
  {
   "cell_type": "code",
   "execution_count": 129,
   "metadata": {},
   "outputs": [],
   "source": [
    "train_features, test_features = preprocess(train_features, test_features)"
   ]
  },
  {
   "cell_type": "markdown",
   "metadata": {},
   "source": [
    "### Exploration"
   ]
  },
  {
   "cell_type": "markdown",
   "metadata": {},
   "source": [
    "### Feature selection"
   ]
  },
  {
   "cell_type": "code",
   "execution_count": 132,
   "metadata": {},
   "outputs": [],
   "source": [
    "rfr = RandomForestRegressor(n_estimators= 1000, max_depth = 6, n_jobs=-1)"
   ]
  },
  {
   "cell_type": "code",
   "execution_count": 133,
   "metadata": {},
   "outputs": [
    {
     "data": {
      "text/plain": [
       "RandomForestRegressor(bootstrap=True, criterion='mse', max_depth=6,\n",
       "                      max_features='auto', max_leaf_nodes=None,\n",
       "                      min_impurity_decrease=0.0, min_impurity_split=None,\n",
       "                      min_samples_leaf=1, min_samples_split=2,\n",
       "                      min_weight_fraction_leaf=0.0, n_estimators=1000,\n",
       "                      n_jobs=-1, oob_score=False, random_state=None, verbose=0,\n",
       "                      warm_start=False)"
      ]
     },
     "execution_count": 133,
     "metadata": {},
     "output_type": "execute_result"
    }
   ],
   "source": [
    "rfr.fit(train_features, train_Y.iloc[:, 1])"
   ]
  },
  {
   "cell_type": "code",
   "execution_count": null,
   "metadata": {},
   "outputs": [],
   "source": []
  },
  {
   "cell_type": "code",
   "execution_count": 8,
   "metadata": {},
   "outputs": [
    {
     "name": "stdout",
     "output_type": "stream",
     "text": [
      "0.4868994898925784\n"
     ]
    },
    {
     "data": {
      "text/plain": [
       "ElasticNet(alpha=0.2, copy_X=True, fit_intercept=True, l1_ratio=1.0,\n",
       "           max_iter=1000, normalize=False, positive=False, precompute=False,\n",
       "           random_state=None, selection='cyclic', tol=0.0001, warm_start=False)"
      ]
     },
     "execution_count": 8,
     "metadata": {},
     "output_type": "execute_result"
    }
   ],
   "source": [
    "###### linear model\n",
    "lr = ElasticNet(alpha = 0.2, l1_ratio = 1.)\n",
    "validation_score = cross_val_score(lr, train_features, train_Y.iloc[:, 1:], cv = 5, scoring = 'r2')\n",
    "print(validation_score.mean())\n",
    "\n",
    "# train model on whole train data\n",
    "lr.fit(X = train_features, y = train_Y.iloc[:, 1])"
   ]
  },
  {
   "cell_type": "code",
   "execution_count": 134,
   "metadata": {},
   "outputs": [],
   "source": [
    "# finding to which features to remove\n",
    "#non_zero_weights = np.where(lr.coef_ != 0.)[0]\n",
    "non_zero_weights = np.argsort(rfr.feature_importances_)[:200]\n",
    "# removing these features from training data\n",
    "train_features = train_features.iloc[:, non_zero_weights]\n",
    "test_features = test_features.iloc[:, non_zero_weights]"
   ]
  },
  {
   "cell_type": "code",
   "execution_count": 135,
   "metadata": {
    "scrolled": true
   },
   "outputs": [
    {
     "name": "stdout",
     "output_type": "stream",
     "text": [
      "training size is  (1212, 200)  and test size is  (776, 200)\n"
     ]
    }
   ],
   "source": [
    "print(\"training size is \", train_features.shape, \" and test size is \", test_features.shape)"
   ]
  },
  {
   "cell_type": "markdown",
   "metadata": {},
   "source": [
    "### Multi-variate Outliers"
   ]
  },
  {
   "cell_type": "code",
   "execution_count": 172,
   "metadata": {},
   "outputs": [],
   "source": [
    "isolation_forest = IsolationForest(behaviour = 'new', contamination='auto')\n",
    "isolation_forest.fit(train_features)\n",
    "\n",
    "isf_predicted = isolation_forest.predict(train_features)"
   ]
  },
  {
   "cell_type": "code",
   "execution_count": 173,
   "metadata": {},
   "outputs": [],
   "source": [
    "train_features = train_features.iloc[np.where(isf_predicted == 1)[0], :]\n",
    "train_Y = train_Y.iloc[np.where(isf_predicted == 1)[0], :]"
   ]
  },
  {
   "cell_type": "markdown",
   "metadata": {},
   "source": [
    "### Model selection"
   ]
  },
  {
   "cell_type": "code",
   "execution_count": 136,
   "metadata": {},
   "outputs": [],
   "source": [
    "train_x, test_x, train_y, test_y = train_test_split(train_features, train_Y.iloc[:, 1], test_size = 0.33,\n",
    "                                                    random_state = 42)"
   ]
  },
  {
   "cell_type": "code",
   "execution_count": 137,
   "metadata": {},
   "outputs": [],
   "source": [
    "def R2(ypred, ytrue):\n",
    "    y_avg = np.mean(ytrue)\n",
    "    SS_tot = np.sum((ytrue - y_avg)**2)\n",
    "    SS_res = np.sum((ytrue - ypred)**2)\n",
    "    r2 = 1 - (SS_res/SS_tot)\n",
    "    return r2\n",
    "\n",
    "def cross_validate(model, x, y, folds=10, repeats=5):\n",
    "    '''\n",
    "    Function to do the cross validation - using stacked Out of Bag method instead of averaging across folds.\n",
    "    model = algorithm to validate. Must be scikit learn or scikit-learn like API (Example xgboost XGBRegressor)\n",
    "    x = training data, numpy array\n",
    "    y = training labels, numpy array\n",
    "    folds = K, the number of folds to divide the data into\n",
    "    repeats = Number of times to repeat validation process for more confidence\n",
    "    '''\n",
    "    ypred = np.zeros((len(y),repeats))\n",
    "    score = np.zeros(repeats)\n",
    "    x = np.array(x)\n",
    "    for r in range(repeats):\n",
    "        i=0\n",
    "        print('Cross Validating - Run', str(r + 1), 'out of', str(repeats))\n",
    "        x,y = shuffle(x,y,random_state=r) #shuffle data before each repeat\n",
    "        kf = KFold(n_splits=folds,random_state=i+1000) #random split, different each time\n",
    "        for train_ind,test_ind in kf.split(x):\n",
    "            print('Fold', i+1, 'out of',folds)\n",
    "            xtrain,ytrain = x[train_ind,:],y[train_ind]\n",
    "            xtest,ytest = x[test_ind,:],y[test_ind]\n",
    "            model.fit(xtrain, ytrain)\n",
    "            ypred[test_ind,r]=model.predict(xtest)\n",
    "            i+=1\n",
    "        score[r] = R2(ypred[:,r],y)\n",
    "    print('\\nOverall R2:',str(score))\n",
    "    print('Mean:',str(np.mean(score)))\n",
    "    print('Deviation:',str(np.std(score)))\n",
    "    return score\n"
   ]
  },
  {
   "cell_type": "code",
   "execution_count": 138,
   "metadata": {},
   "outputs": [],
   "source": [
    "xgbr = XGBRegressor(max_depth=10, learning_rate=0.05, n_estimators=1000, verbosity=1,\n",
    "                    objective='reg:squarederror', booster='gbtree', tree_method='auto', n_jobs=-1,\n",
    "                    gamma=0, min_child_weight=1, max_delta_step=0, subsample=1, colsample_bytree=1,\n",
    "                    colsample_bylevel=1, colsample_bynode=1, reg_alpha=1.5, reg_lambda=1.,\n",
    "                    scale_pos_weight=1, base_score=0.5, random_state=0, missing=None, num_parallel_tree=1,\n",
    "                    importance_type='gain')\n",
    "\n",
    "def baseline_model():\n",
    "    # create model\n",
    "    model = Sequential()\n",
    "    model.add(Dense(100, input_dim=189, kernel_initializer='normal', activation='sigmoid'))\n",
    "    model.add(Dropout(0.5))\n",
    "    model.add(Dense(10, kernel_initializer = 'normal', activation = 'relu'))\n",
    "    #model.add(Dropout(0.5))\n",
    "    #model.add(Dense(25, kernel_initializer = 'normal', activation = 'relu'))\n",
    "    model.add(Dense(1, kernel_initializer='normal'))\n",
    "    # Compile model\n",
    "    model.compile(loss='mean_squared_error', optimizer='adam', )\n",
    "    return model\n",
    "\n",
    "# evaluate model\n",
    "estimator = KerasRegressor(build_fn=baseline_model, epochs=100, batch_size=16, validation_split = 0.3,verbose=2)\n",
    "\n",
    "gpr = GaussianProcessRegressor(alpha = 0.3, n_restarts_optimizer = 100)"
   ]
  },
  {
   "cell_type": "code",
   "execution_count": 143,
   "metadata": {},
   "outputs": [
    {
     "data": {
      "text/plain": [
       "(776, 200)"
      ]
     },
     "execution_count": 143,
     "metadata": {},
     "output_type": "execute_result"
    }
   ],
   "source": [
    "test_features.shape"
   ]
  },
  {
   "cell_type": "code",
   "execution_count": 140,
   "metadata": {},
   "outputs": [
    {
     "name": "stdout",
     "output_type": "stream",
     "text": [
      "Cross Validating - Run 1 out of 10\n",
      "Fold 1 out of 10\n",
      "Fold 2 out of 10\n",
      "Fold 3 out of 10\n",
      "Fold 4 out of 10\n",
      "Fold 5 out of 10\n",
      "Fold 6 out of 10\n",
      "Fold 7 out of 10\n",
      "Fold 8 out of 10\n",
      "Fold 9 out of 10\n",
      "Fold 10 out of 10\n",
      "Cross Validating - Run 2 out of 10\n",
      "Fold 1 out of 10\n",
      "Fold 2 out of 10\n",
      "Fold 3 out of 10\n",
      "Fold 4 out of 10\n",
      "Fold 5 out of 10\n",
      "Fold 6 out of 10\n",
      "Fold 7 out of 10\n",
      "Fold 8 out of 10\n",
      "Fold 9 out of 10\n",
      "Fold 10 out of 10\n",
      "Cross Validating - Run 3 out of 10\n",
      "Fold 1 out of 10\n",
      "Fold 2 out of 10\n",
      "Fold 3 out of 10\n",
      "Fold 4 out of 10\n",
      "Fold 5 out of 10\n",
      "Fold 6 out of 10\n",
      "Fold 7 out of 10\n",
      "Fold 8 out of 10\n",
      "Fold 9 out of 10\n",
      "Fold 10 out of 10\n",
      "Cross Validating - Run 4 out of 10\n",
      "Fold 1 out of 10\n",
      "Fold 2 out of 10\n",
      "Fold 3 out of 10\n",
      "Fold 4 out of 10\n",
      "Fold 5 out of 10\n",
      "Fold 6 out of 10\n",
      "Fold 7 out of 10\n",
      "Fold 8 out of 10\n",
      "Fold 9 out of 10\n",
      "Fold 10 out of 10\n",
      "Cross Validating - Run 5 out of 10\n",
      "Fold 1 out of 10\n",
      "Fold 2 out of 10\n",
      "Fold 3 out of 10\n",
      "Fold 4 out of 10\n",
      "Fold 5 out of 10\n",
      "Fold 6 out of 10\n",
      "Fold 7 out of 10\n",
      "Fold 8 out of 10\n",
      "Fold 9 out of 10\n",
      "Fold 10 out of 10\n",
      "Cross Validating - Run 6 out of 10\n",
      "Fold 1 out of 10\n",
      "Fold 2 out of 10\n",
      "Fold 3 out of 10\n",
      "Fold 4 out of 10\n",
      "Fold 5 out of 10\n",
      "Fold 6 out of 10\n",
      "Fold 7 out of 10\n",
      "Fold 8 out of 10\n",
      "Fold 9 out of 10\n",
      "Fold 10 out of 10\n",
      "Cross Validating - Run 7 out of 10\n",
      "Fold 1 out of 10\n",
      "Fold 2 out of 10\n",
      "Fold 3 out of 10\n",
      "Fold 4 out of 10\n",
      "Fold 5 out of 10\n",
      "Fold 6 out of 10\n",
      "Fold 7 out of 10\n",
      "Fold 8 out of 10\n",
      "Fold 9 out of 10\n",
      "Fold 10 out of 10\n",
      "Cross Validating - Run 8 out of 10\n",
      "Fold 1 out of 10\n",
      "Fold 2 out of 10\n",
      "Fold 3 out of 10\n",
      "Fold 4 out of 10\n",
      "Fold 5 out of 10\n",
      "Fold 6 out of 10\n",
      "Fold 7 out of 10\n",
      "Fold 8 out of 10\n",
      "Fold 9 out of 10\n",
      "Fold 10 out of 10\n",
      "Cross Validating - Run 9 out of 10\n",
      "Fold 1 out of 10\n",
      "Fold 2 out of 10\n",
      "Fold 3 out of 10\n",
      "Fold 4 out of 10\n",
      "Fold 5 out of 10\n",
      "Fold 6 out of 10\n",
      "Fold 7 out of 10\n",
      "Fold 8 out of 10\n",
      "Fold 9 out of 10\n",
      "Fold 10 out of 10\n",
      "Cross Validating - Run 10 out of 10\n",
      "Fold 1 out of 10\n",
      "Fold 2 out of 10\n",
      "Fold 3 out of 10\n",
      "Fold 4 out of 10\n",
      "Fold 5 out of 10\n",
      "Fold 6 out of 10\n",
      "Fold 7 out of 10\n",
      "Fold 8 out of 10\n",
      "Fold 9 out of 10\n",
      "Fold 10 out of 10\n",
      "\n",
      "Overall R2: [-0.18993903 -0.18266616 -0.20096245 -0.16517718 -0.20874815 -0.20857705\n",
      " -0.21344391 -0.19625881 -0.21076657 -0.19260901]\n",
      "Mean: -0.19691483195815743\n",
      "Deviation: 0.014266865556349349\n"
     ]
    }
   ],
   "source": [
    "lr = ElasticNet(alpha = 0.3, l1_ratio = 0.1)\n",
    "scores = cross_validate(lr,train_x.values, train_y.values, repeats=10)"
   ]
  },
  {
   "cell_type": "code",
   "execution_count": 100,
   "metadata": {},
   "outputs": [
    {
     "name": "stdout",
     "output_type": "stream",
     "text": [
      "Train on 568 samples, validate on 244 samples\n",
      "Epoch 1/100\n",
      " - 7s - loss: 4954.5844 - val_loss: 4906.2332\n",
      "Epoch 2/100\n",
      " - 1s - loss: 4750.3664 - val_loss: 4581.2378\n",
      "Epoch 3/100\n",
      " - 1s - loss: 4284.1534 - val_loss: 3990.4918\n",
      "Epoch 4/100\n",
      " - 1s - loss: 3556.3221 - val_loss: 3189.1947\n",
      "Epoch 5/100\n",
      " - 1s - loss: 2645.8863 - val_loss: 2292.2055\n",
      "Epoch 6/100\n",
      " - 1s - loss: 1708.9455 - val_loss: 1402.4436\n",
      "Epoch 7/100\n",
      " - 1s - loss: 854.0587 - val_loss: 732.6966\n",
      "Epoch 8/100\n",
      " - 1s - loss: 388.9123 - val_loss: 367.4794\n",
      "Epoch 9/100\n",
      " - 1s - loss: 182.2929 - val_loss: 208.0859\n",
      "Epoch 10/100\n",
      " - 1s - loss: 127.2052 - val_loss: 153.9710\n",
      "Epoch 11/100\n",
      " - 1s - loss: 123.8891 - val_loss: 125.6064\n",
      "Epoch 12/100\n",
      " - 1s - loss: 111.0470 - val_loss: 106.5380\n",
      "Epoch 13/100\n",
      " - 1s - loss: 97.7936 - val_loss: 91.4059\n",
      "Epoch 14/100\n",
      " - 1s - loss: 92.8434 - val_loss: 84.0293\n",
      "Epoch 15/100\n",
      " - 1s - loss: 90.5206 - val_loss: 75.1298\n",
      "Epoch 16/100\n",
      " - 1s - loss: 88.1438 - val_loss: 70.3817\n",
      "Epoch 17/100\n",
      " - 1s - loss: 78.1364 - val_loss: 64.1046\n",
      "Epoch 18/100\n",
      " - 1s - loss: 96.0009 - val_loss: 63.1603\n",
      "Epoch 19/100\n",
      " - 1s - loss: 82.3130 - val_loss: 57.1998\n",
      "Epoch 20/100\n",
      " - 1s - loss: 79.7630 - val_loss: 52.8929\n",
      "Epoch 21/100\n",
      " - 1s - loss: 80.5112 - val_loss: 51.8775\n",
      "Epoch 22/100\n",
      " - 1s - loss: 78.3738 - val_loss: 50.9395\n",
      "Epoch 23/100\n",
      " - 1s - loss: 80.8196 - val_loss: 49.3245\n",
      "Epoch 24/100\n",
      " - 1s - loss: 88.2467 - val_loss: 49.1846\n",
      "Epoch 25/100\n",
      " - 1s - loss: 86.7072 - val_loss: 48.2945\n",
      "Epoch 26/100\n",
      " - 1s - loss: 71.3997 - val_loss: 48.5430\n",
      "Epoch 27/100\n",
      " - 1s - loss: 76.7139 - val_loss: 47.2299\n",
      "Epoch 28/100\n",
      " - 1s - loss: 77.8854 - val_loss: 48.2169\n",
      "Epoch 29/100\n",
      " - 1s - loss: 80.9584 - val_loss: 47.4673\n",
      "Epoch 30/100\n",
      " - 1s - loss: 83.8758 - val_loss: 44.9841\n",
      "Epoch 31/100\n",
      " - 1s - loss: 84.2045 - val_loss: 45.3747\n",
      "Epoch 32/100\n",
      " - 1s - loss: 82.9792 - val_loss: 45.4595\n",
      "Epoch 33/100\n",
      " - 1s - loss: 77.1943 - val_loss: 44.8527\n",
      "Epoch 34/100\n",
      " - 1s - loss: 74.4455 - val_loss: 44.6012\n",
      "Epoch 35/100\n",
      " - 1s - loss: 78.5897 - val_loss: 41.2238\n",
      "Epoch 36/100\n",
      " - 1s - loss: 74.0004 - val_loss: 43.2895\n",
      "Epoch 37/100\n",
      " - 1s - loss: 82.9349 - val_loss: 43.8487\n",
      "Epoch 38/100\n",
      " - 1s - loss: 77.0864 - val_loss: 43.6926\n",
      "Epoch 39/100\n",
      " - 1s - loss: 77.8105 - val_loss: 42.7218\n",
      "Epoch 40/100\n",
      " - 1s - loss: 80.4885 - val_loss: 45.2944\n",
      "Epoch 41/100\n",
      " - 1s - loss: 74.8221 - val_loss: 46.4943\n",
      "Epoch 42/100\n",
      " - 1s - loss: 77.3625 - val_loss: 44.1898\n",
      "Epoch 43/100\n",
      " - 1s - loss: 74.1454 - val_loss: 45.9861\n",
      "Epoch 44/100\n",
      " - 1s - loss: 81.0329 - val_loss: 43.8365\n",
      "Epoch 45/100\n",
      " - 1s - loss: 68.3828 - val_loss: 46.0064\n",
      "Epoch 46/100\n",
      " - 1s - loss: 78.1178 - val_loss: 44.0815\n",
      "Epoch 47/100\n",
      " - 1s - loss: 75.0341 - val_loss: 42.8725\n",
      "Epoch 48/100\n",
      " - 1s - loss: 70.6053 - val_loss: 43.5964\n",
      "Epoch 49/100\n",
      " - 1s - loss: 78.9114 - val_loss: 43.1361\n",
      "Epoch 50/100\n",
      " - 1s - loss: 77.4344 - val_loss: 44.3384\n",
      "Epoch 51/100\n",
      " - 1s - loss: 78.6304 - val_loss: 47.2640\n",
      "Epoch 52/100\n",
      " - 1s - loss: 78.6381 - val_loss: 45.6293\n",
      "Epoch 53/100\n",
      " - 1s - loss: 74.1535 - val_loss: 46.1546\n",
      "Epoch 54/100\n",
      " - 1s - loss: 60.9120 - val_loss: 47.3250\n",
      "Epoch 55/100\n",
      " - 1s - loss: 83.2179 - val_loss: 46.5628\n",
      "Epoch 56/100\n",
      " - 1s - loss: 81.1208 - val_loss: 46.0151\n",
      "Epoch 57/100\n",
      " - 1s - loss: 69.2271 - val_loss: 46.6437\n",
      "Epoch 58/100\n",
      " - 1s - loss: 78.6177 - val_loss: 44.9243\n",
      "Epoch 59/100\n",
      " - 1s - loss: 76.7396 - val_loss: 47.7346\n",
      "Epoch 60/100\n",
      " - 1s - loss: 68.9481 - val_loss: 43.7659\n",
      "Epoch 61/100\n",
      " - 1s - loss: 78.6736 - val_loss: 44.4745\n",
      "Epoch 62/100\n",
      " - 1s - loss: 72.5891 - val_loss: 46.0193\n",
      "Epoch 63/100\n",
      " - 1s - loss: 75.8314 - val_loss: 44.0017\n",
      "Epoch 64/100\n",
      " - 1s - loss: 73.2613 - val_loss: 44.7062\n",
      "Epoch 65/100\n",
      " - 1s - loss: 72.8617 - val_loss: 44.3312\n",
      "Epoch 66/100\n",
      " - 1s - loss: 74.5119 - val_loss: 48.7336\n",
      "Epoch 67/100\n",
      " - 1s - loss: 75.2502 - val_loss: 47.2333\n",
      "Epoch 68/100\n",
      " - 1s - loss: 73.5125 - val_loss: 45.5889\n",
      "Epoch 69/100\n",
      " - 1s - loss: 80.8441 - val_loss: 46.4555\n",
      "Epoch 70/100\n",
      " - 1s - loss: 83.5573 - val_loss: 46.8473\n",
      "Epoch 71/100\n",
      " - 1s - loss: 75.3166 - val_loss: 44.6178\n",
      "Epoch 72/100\n",
      " - 1s - loss: 69.5253 - val_loss: 45.1308\n",
      "Epoch 73/100\n",
      " - 1s - loss: 75.1826 - val_loss: 43.3026\n",
      "Epoch 74/100\n",
      " - 1s - loss: 68.4831 - val_loss: 44.3109\n",
      "Epoch 75/100\n",
      " - 1s - loss: 74.4292 - val_loss: 46.7196\n",
      "Epoch 76/100\n",
      " - 1s - loss: 68.6521 - val_loss: 45.6628\n",
      "Epoch 77/100\n",
      " - 1s - loss: 64.1676 - val_loss: 45.9754\n",
      "Epoch 78/100\n",
      " - 1s - loss: 71.9179 - val_loss: 45.3977\n",
      "Epoch 79/100\n",
      " - 1s - loss: 72.6001 - val_loss: 44.6499\n",
      "Epoch 80/100\n",
      " - 1s - loss: 66.2515 - val_loss: 44.4328\n",
      "Epoch 81/100\n",
      " - 1s - loss: 69.1281 - val_loss: 42.9606\n",
      "Epoch 82/100\n",
      " - 1s - loss: 74.2824 - val_loss: 46.3500\n",
      "Epoch 83/100\n",
      " - 1s - loss: 69.8155 - val_loss: 45.0230\n",
      "Epoch 84/100\n",
      " - 1s - loss: 79.7153 - val_loss: 43.8756\n",
      "Epoch 85/100\n",
      " - 1s - loss: 68.8746 - val_loss: 44.4013\n",
      "Epoch 86/100\n",
      " - 1s - loss: 70.8843 - val_loss: 43.8860\n",
      "Epoch 87/100\n",
      " - 1s - loss: 69.9404 - val_loss: 45.9428\n",
      "Epoch 88/100\n",
      " - 1s - loss: 69.4915 - val_loss: 47.9192\n",
      "Epoch 89/100\n",
      " - 1s - loss: 68.8517 - val_loss: 46.4943\n",
      "Epoch 90/100\n",
      " - 1s - loss: 65.5640 - val_loss: 48.8485\n",
      "Epoch 91/100\n",
      " - 1s - loss: 65.5124 - val_loss: 45.4430\n",
      "Epoch 92/100\n",
      " - 1s - loss: 70.7364 - val_loss: 47.1253\n",
      "Epoch 93/100\n",
      " - 1s - loss: 67.2044 - val_loss: 46.4036\n",
      "Epoch 94/100\n",
      " - 1s - loss: 68.0564 - val_loss: 45.0227\n",
      "Epoch 95/100\n",
      " - 1s - loss: 79.7199 - val_loss: 51.0220\n",
      "Epoch 96/100\n",
      " - 1s - loss: 73.0257 - val_loss: 44.9228\n",
      "Epoch 97/100\n",
      " - 1s - loss: 65.4768 - val_loss: 46.7656\n",
      "Epoch 98/100\n",
      " - 1s - loss: 74.6168 - val_loss: 45.1998\n",
      "Epoch 99/100\n",
      " - 1s - loss: 74.7478 - val_loss: 46.5107\n",
      "Epoch 100/100\n",
      " - 1s - loss: 70.7639 - val_loss: 45.8099\n"
     ]
    }
   ],
   "source": [
    "history = estimator.fit(train_x, train_y)"
   ]
  },
  {
   "cell_type": "code",
   "execution_count": 101,
   "metadata": {},
   "outputs": [
    {
     "data": {
      "text/plain": [
       "dict_keys(['val_loss', 'loss'])"
      ]
     },
     "execution_count": 101,
     "metadata": {},
     "output_type": "execute_result"
    }
   ],
   "source": [
    "history.history.keys()"
   ]
  },
  {
   "cell_type": "code",
   "execution_count": 102,
   "metadata": {},
   "outputs": [
    {
     "data": {
      "image/png": "[encoded data removed]",
      "text/plain": [
       "<Figure size 432x288 with 1 Axes>"
      ]
     },
     "metadata": {
      "needs_background": "light"
     },
     "output_type": "display_data"
    }
   ],
   "source": [
    "plt.plot(np.log(history.history['loss']))\n",
    "plt.plot(np.log(history.history['val_loss']))\n",
    "plt.title('model loss')\n",
    "plt.ylabel('loss')\n",
    "plt.xlabel('epoch')\n",
    "plt.legend(['train', 'test'], loc='upper left')\n",
    "plt.show()"
   ]
  },
  {
   "cell_type": "code",
   "execution_count": 103,
   "metadata": {},
   "outputs": [
    {
     "data": {
      "text/plain": [
       "0.46624329638657314"
      ]
     },
     "execution_count": 103,
     "metadata": {},
     "output_type": "execute_result"
    }
   ],
   "source": [
    "r2_score(test_y, estimator.predict(test_x))\n",
    "#plt.show()"
   ]
  },
  {
   "cell_type": "code",
   "execution_count": 105,
   "metadata": {},
   "outputs": [
    {
     "name": "stdout",
     "output_type": "stream",
     "text": [
      "0.5907038979014794\n",
      "0.5511173038021824\n"
     ]
    }
   ],
   "source": [
    "#### training more complex model on this cleared date\n",
    "\n",
    "###### linear model\n",
    "alpha = np.arange(0.1, 2, 0.2)\n",
    "l1_ratio = np.arange(0.1, 1, 0.2)\n",
    "results = pd.DataFrame(columns=['alpha', 'l1_ratio', 'cv_score'])\n",
    "for a in alpha:\n",
    "    for l1 in l1_ratio:\n",
    "        lr = ElasticNet(alpha = a, l1_ratio=l1)\n",
    "        validation_score = cross_val_score(lr, train_x, train_y, cv = 5, scoring = 'r2')\n",
    "        results = results.append({'alpha':a, 'l1_ratio':l1, 'cv_score':validation_score.mean()}, ignore_index = True)\n",
    "\n",
    "best_parameters = results.iloc[np.argmax(results.cv_score.values),:]\n",
    "print(best_parameters['cv_score'])\n",
    "\n",
    "# linear Elastic NEt\n",
    "lr = ElasticNet(alpha = best_parameters['alpha'], l1_ratio = best_parameters['l1_ratio'])\n",
    "\n",
    "# support vector regression\n",
    "C = np.arange(1, 10, 1)\n",
    "epsilon = np.arange(0.05, 0.5, 0.05)\n",
    "svr_params = pd.DataFrame(columns = ['C', 'cv_score', 'epsilon'])\n",
    "for c in C:\n",
    "    for e in epsilon:\n",
    "        svr = SVR(kernel = 'rbf', degree = 10, gamma = 'scale', C = c, epsilon = e)\n",
    "        cv_score = cross_val_score(svr, train_x, train_y, cv= 5, scoring = 'r2').mean()\n",
    "        svr_params = svr_params.append({'C':c, 'cv_score':cv_score, 'epsilon':e}, ignore_index = True)\n",
    "\n",
    "best_params = svr_params.iloc[np.argmax(svr_params.cv_score.values), :]\n",
    "print(best_params['cv_score'].mean())\n",
    "\n",
    "svr = SVR(kernel= 'rbf', gamma = 'scale', C = best_params['C'], epsilon = best_params['epsilon'])"
   ]
  },
  {
   "cell_type": "code",
   "execution_count": 474,
   "metadata": {},
   "outputs": [
    {
     "data": {
      "text/plain": [
       "SVR(C=9.0, cache_size=200, coef0=0.0, degree=3, epsilon=0.45, gamma='scale',\n",
       "    kernel='rbf', max_iter=-1, shrinking=True, tol=0.001, verbose=False)"
      ]
     },
     "execution_count": 474,
     "metadata": {},
     "output_type": "execute_result"
    }
   ],
   "source": [
    "lr.fit(train_x, train_y)\n",
    "svr.fit(train_x, train_y)"
   ]
  },
  {
   "cell_type": "code",
   "execution_count": 475,
   "metadata": {},
   "outputs": [
    {
     "name": "stdout",
     "output_type": "stream",
     "text": [
      "0.5957229699670554\n"
     ]
    }
   ],
   "source": [
    "###### linear model\n",
    "alpha = np.arange(0.1, 2, 0.2)\n",
    "l1_ratio = np.arange(0.1, 1, 0.2)\n",
    "residual_threshold = np.arange(5., 20., 5.)\n",
    "results = pd.DataFrame(columns=['alpha', 'l1_ratio', 'threshold','cv_score'])\n",
    "for a in alpha:\n",
    "    for l1 in l1_ratio:\n",
    "        for r in residual_threshold:\n",
    "            el = ElasticNet(alpha = a, l1_ratio=l1)    \n",
    "            ransac = RANSACRegressor(base_estimator= el, min_samples=200, residual_threshold = r, max_trials=100)\n",
    "            try:\n",
    "                validation_score = cross_val_score(ransac, train_x, train_y, cv = 5, scoring = 'r2')\n",
    "            except ValueError:\n",
    "                continue\n",
    "            results = results.append({'alpha':a, 'l1_ratio':l1, 'threshold':r,'cv_score':validation_score.mean()},\n",
    "                                     ignore_index = True)\n",
    "\n",
    "best_parameters = results.iloc[np.argmax(results.cv_score.values),:]\n",
    "print(best_parameters['cv_score'])\n"
   ]
  },
  {
   "cell_type": "code",
   "execution_count": 476,
   "metadata": {},
   "outputs": [
    {
     "data": {
      "text/plain": [
       "RANSACRegressor(base_estimator=ElasticNet(alpha=0.30000000000000004,\n",
       "                                          copy_X=True, fit_intercept=True,\n",
       "                                          l1_ratio=0.1, max_iter=1000,\n",
       "                                          normalize=False, positive=False,\n",
       "                                          precompute=False, random_state=None,\n",
       "                                          selection='cyclic', tol=0.0001,\n",
       "                                          warm_start=False),\n",
       "                is_data_valid=None, is_model_valid=None, loss='absolute_loss',\n",
       "                max_skips=inf, max_trials=100, min_samples=None,\n",
       "                random_state=None, residual_threshold=15.0, stop_n_inliers=inf,\n",
       "                stop_probability=0.99, stop_score=inf)"
      ]
     },
     "execution_count": 476,
     "metadata": {},
     "output_type": "execute_result"
    }
   ],
   "source": [
    "ransac = RANSACRegressor(ElasticNet(alpha = best_parameters['alpha'], l1_ratio = best_parameters['l1_ratio']),\n",
    "                        residual_threshold= best_parameters['threshold'])\n",
    "ransac.fit(train_x, train_y)"
   ]
  },
  {
   "cell_type": "code",
   "execution_count": 481,
   "metadata": {},
   "outputs": [],
   "source": [
    "lr_pred = lr.predict(test_x)\n",
    "svr_pred = svr.predict(test_x)\n",
    "ran_pred = ransac.predict(test_x)"
   ]
  },
  {
   "cell_type": "code",
   "execution_count": 482,
   "metadata": {},
   "outputs": [],
   "source": [
    "lr_score = lr.score(test_x, test_y)\n",
    "svr_score = svr.score(test_x, test_y)\n",
    "ran_score = ransac.score(test_x, test_y)"
   ]
  },
  {
   "cell_type": "code",
   "execution_count": 483,
   "metadata": {},
   "outputs": [
    {
     "name": "stdout",
     "output_type": "stream",
     "text": [
      "0.5874976369523859 0.5662875543301193 0.5756763164126009\n"
     ]
    }
   ],
   "source": [
    "print(lr_score, svr_score, ran_score)"
   ]
  },
  {
   "cell_type": "code",
   "execution_count": 487,
   "metadata": {},
   "outputs": [
    {
     "data": {
      "image/png": "[encoded data removed]",
      "text/plain": [
       "<Figure size 432x288 with 1 Axes>"
      ]
     },
     "metadata": {
      "needs_background": "light"
     },
     "output_type": "display_data"
    },
    {
     "data": {
      "image/png": "[encoded data removed]",
      "text/plain": [
       "<Figure size 432x288 with 1 Axes>"
      ]
     },
     "metadata": {
      "needs_background": "light"
     },
     "output_type": "display_data"
    },
    {
     "data": {
      "image/png": "[encoded data removed]",
      "text/plain": [
       "<Figure size 432x288 with 1 Axes>"
      ]
     },
     "metadata": {
      "needs_background": "light"
     },
     "output_type": "display_data"
    }
   ],
   "source": [
    "plt.scatter(lr_pred, lr_pred-test_y)\n",
    "plt.show()\n",
    "plt.scatter(svr_pred, svr_pred-test_y)\n",
    "plt.show()\n",
    "plt.scatter(ran_pred, ran_pred-test_y)\n",
    "plt.show()"
   ]
  },
  {
   "cell_type": "markdown",
   "metadata": {},
   "source": [
    "### Predictions"
   ]
  },
  {
   "cell_type": "code",
   "execution_count": 488,
   "metadata": {},
   "outputs": [],
   "source": [
    "best_model = lr"
   ]
  },
  {
   "cell_type": "code",
   "execution_count": 489,
   "metadata": {},
   "outputs": [],
   "source": [
    "predicted = best_model.predict(test_features)"
   ]
  },
  {
   "cell_type": "code",
   "execution_count": 493,
   "metadata": {},
   "outputs": [],
   "source": [
    "predicted_Round = np.round(predicted)"
   ]
  },
  {
   "cell_type": "code",
   "execution_count": 490,
   "metadata": {},
   "outputs": [
    {
     "data": {
      "image/png": "[encoded data removed]",
      "text/plain": [
       "<Figure size 432x288 with 1 Axes>"
      ]
     },
     "metadata": {
      "needs_background": "light"
     },
     "output_type": "display_data"
    }
   ],
   "source": [
    "plt.hist(predicted)\n",
    "plt.show()"
   ]
  },
  {
   "cell_type": "code",
   "execution_count": 491,
   "metadata": {},
   "outputs": [],
   "source": [
    "#predicted = best_model.predict(test_features)\n",
    "sample_submission['y'] = predicted"
   ]
  },
  {
   "cell_type": "code",
   "execution_count": 492,
   "metadata": {},
   "outputs": [],
   "source": [
    "sample_submission.to_csv(\"submissions/Ajay_14th_sub.csv\", index = False)"
   ]
  },
  {
   "cell_type": "code",
   "execution_count": null,
   "metadata": {},
   "outputs": [],
   "source": []
  }
 ],
 "metadata": {
  "kernelspec": {
   "display_name": "Python 3",
   "language": "python",
   "name": "python3"
  },
  "language_info": {
   "codemirror_mode": {
    "name": "ipython",
    "version": 3
   },
   "file_extension": ".py",
   "mimetype": "text/x-python",
   "name": "python",
   "nbconvert_exporter": "python",
   "pygments_lexer": "ipython3",
   "version": "3.7.3"
  }
 },
 "nbformat": 4,
 "nbformat_minor": 2
}
